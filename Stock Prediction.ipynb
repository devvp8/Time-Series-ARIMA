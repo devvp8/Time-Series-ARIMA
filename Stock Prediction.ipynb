{
 "cells": [
  {
   "cell_type": "code",
   "execution_count": 9,
   "id": "c7c0c2f1",
   "metadata": {},
   "outputs": [
    {
     "name": "stdout",
     "output_type": "stream",
     "text": [
      "        Date      Open      High       Low     Close  Adj Close    Volume\n",
      "0 2009-07-14  6.061429  6.221429  5.971429  6.185714   6.185714  13967800\n",
      "1 2009-07-15  6.258571  6.345714  6.187143  6.344286   6.344286   9424800\n",
      "2 2009-07-16  6.257143  6.324286  6.161429  6.304286   6.304286   8621900\n",
      "3 2009-07-17  6.302857  6.375714  6.248571  6.305714   6.305714   8306200\n",
      "4 2009-07-20  6.358571  6.425714  6.232857  6.402857   6.402857   9681000\n"
     ]
    }
   ],
   "source": [
    "import pandas as pd\n",
    "import yfinance as yf\n",
    "import datetime\n",
    "import numpy as np\n",
    "import seaborn as sns\n",
    "from datetime import date, timedelta\n",
    "from sklearn.model_selection import train_test_split\n",
    "today = date.today()\n",
    "\n",
    "d1 = today.strftime(\"%Y-%m-%d\")\n",
    "end_date = d1\n",
    "d2 = date.today() - timedelta(days=5000)\n",
    "d2 = d2.strftime(\"%Y-%m-%d\")\n",
    "start_date = d2\n",
    "\n",
    "data = yf.download('NFLX', \n",
    "                      start=start_date, \n",
    "                      end=end_date, \n",
    "                      progress=False)\n",
    "data[\"Date\"] = data.index\n",
    "data = data[[\"Date\", \"Open\", \"High\", \"Low\", \"Close\", \"Adj Close\", \"Volume\"]]\n",
    "data.reset_index(drop=True, inplace=True)\n",
    "print(data.head())"
   ]
  },
  {
   "cell_type": "code",
   "execution_count": 2,
   "id": "44ba7500",
   "metadata": {},
   "outputs": [
    {
     "name": "stdout",
     "output_type": "stream",
     "text": [
      "Collecting yfinance\n",
      "  Downloading yfinance-0.2.13-py2.py3-none-any.whl (59 kB)\n",
      "Requirement already satisfied: pandas>=1.3.0 in c:\\python39\\lib\\site-packages (from yfinance) (1.5.3)\n",
      "Collecting cryptography>=3.3.2\n",
      "  Downloading cryptography-39.0.2-cp36-abi3-win_amd64.whl (2.5 MB)\n",
      "Collecting appdirs>=1.4.4\n",
      "  Downloading appdirs-1.4.4-py2.py3-none-any.whl (9.6 kB)\n",
      "Requirement already satisfied: numpy>=1.16.5 in c:\\python39\\lib\\site-packages (from yfinance) (1.24.1)\n",
      "Requirement already satisfied: pytz>=2022.5 in c:\\python39\\lib\\site-packages (from yfinance) (2022.7.1)\n",
      "Requirement already satisfied: beautifulsoup4>=4.11.1 in c:\\python39\\lib\\site-packages (from yfinance) (4.11.2)\n",
      "Requirement already satisfied: requests>=2.26 in c:\\python39\\lib\\site-packages (from yfinance) (2.28.2)\n",
      "Collecting multitasking>=0.0.7\n",
      "  Downloading multitasking-0.0.11-py3-none-any.whl (8.5 kB)\n",
      "Collecting lxml>=4.9.1\n",
      "  Downloading lxml-4.9.2-cp39-cp39-win_amd64.whl (3.9 MB)\n",
      "Collecting frozendict>=2.3.4\n",
      "  Downloading frozendict-2.3.6-cp39-cp39-win_amd64.whl (35 kB)\n",
      "Collecting html5lib>=1.1\n",
      "  Downloading html5lib-1.1-py2.py3-none-any.whl (112 kB)\n",
      "Requirement already satisfied: soupsieve>1.2 in c:\\python39\\lib\\site-packages (from beautifulsoup4>=4.11.1->yfinance) (2.3.2.post1)\n",
      "Requirement already satisfied: cffi>=1.12 in c:\\python39\\lib\\site-packages (from cryptography>=3.3.2->yfinance) (1.15.1)\n",
      "Requirement already satisfied: pycparser in c:\\python39\\lib\\site-packages (from cffi>=1.12->cryptography>=3.3.2->yfinance) (2.21)\n",
      "Requirement already satisfied: six>=1.9 in c:\\python39\\lib\\site-packages (from html5lib>=1.1->yfinance) (1.16.0)\n",
      "Requirement already satisfied: webencodings in c:\\python39\\lib\\site-packages (from html5lib>=1.1->yfinance) (0.5.1)\n",
      "Requirement already satisfied: python-dateutil>=2.8.1 in c:\\python39\\lib\\site-packages (from pandas>=1.3.0->yfinance) (2.8.2)\n",
      "Requirement already satisfied: certifi>=2017.4.17 in c:\\python39\\lib\\site-packages (from requests>=2.26->yfinance) (2022.12.7)\n",
      "Requirement already satisfied: charset-normalizer<4,>=2 in c:\\python39\\lib\\site-packages (from requests>=2.26->yfinance) (3.0.1)\n",
      "Requirement already satisfied: idna<4,>=2.5 in c:\\python39\\lib\\site-packages (from requests>=2.26->yfinance) (3.4)\n",
      "Requirement already satisfied: urllib3<1.27,>=1.21.1 in c:\\python39\\lib\\site-packages (from requests>=2.26->yfinance) (1.26.14)\n",
      "Installing collected packages: multitasking, lxml, html5lib, frozendict, cryptography, appdirs, yfinance\n",
      "Successfully installed appdirs-1.4.4 cryptography-39.0.2 frozendict-2.3.6 html5lib-1.1 lxml-4.9.2 multitasking-0.0.11 yfinance-0.2.13\n",
      "Note: you may need to restart the kernel to use updated packages.\n"
     ]
    },
    {
     "name": "stderr",
     "output_type": "stream",
     "text": [
      "WARNING: You are using pip version 21.2.3; however, version 23.0.1 is available.\n",
      "You should consider upgrading via the 'C:\\Python39\\python.exe -m pip install --upgrade pip' command.\n"
     ]
    }
   ],
   "source": [
    "pip install yfinance"
   ]
  },
  {
   "cell_type": "code",
   "execution_count": 8,
   "id": "73f33a74",
   "metadata": {},
   "outputs": [
    {
     "data": {
      "text/html": [
       "<div>\n",
       "<style scoped>\n",
       "    .dataframe tbody tr th:only-of-type {\n",
       "        vertical-align: middle;\n",
       "    }\n",
       "\n",
       "    .dataframe tbody tr th {\n",
       "        vertical-align: top;\n",
       "    }\n",
       "\n",
       "    .dataframe thead th {\n",
       "        text-align: right;\n",
       "    }\n",
       "</style>\n",
       "<table border=\"1\" class=\"dataframe\">\n",
       "  <thead>\n",
       "    <tr style=\"text-align: right;\">\n",
       "      <th></th>\n",
       "      <th>Date</th>\n",
       "      <th>Open</th>\n",
       "      <th>High</th>\n",
       "      <th>Low</th>\n",
       "      <th>Close</th>\n",
       "      <th>Adj Close</th>\n",
       "      <th>Volume</th>\n",
       "    </tr>\n",
       "  </thead>\n",
       "  <tbody>\n",
       "    <tr>\n",
       "      <th>3442</th>\n",
       "      <td>2023-03-15</td>\n",
       "      <td>292.510010</td>\n",
       "      <td>306.309998</td>\n",
       "      <td>292.279999</td>\n",
       "      <td>303.790009</td>\n",
       "      <td>303.790009</td>\n",
       "      <td>9215300</td>\n",
       "    </tr>\n",
       "    <tr>\n",
       "      <th>3443</th>\n",
       "      <td>2023-03-16</td>\n",
       "      <td>304.750000</td>\n",
       "      <td>316.600006</td>\n",
       "      <td>301.709991</td>\n",
       "      <td>310.059998</td>\n",
       "      <td>310.059998</td>\n",
       "      <td>7903700</td>\n",
       "    </tr>\n",
       "    <tr>\n",
       "      <th>3444</th>\n",
       "      <td>2023-03-17</td>\n",
       "      <td>310.059998</td>\n",
       "      <td>310.760010</td>\n",
       "      <td>300.000000</td>\n",
       "      <td>303.500000</td>\n",
       "      <td>303.500000</td>\n",
       "      <td>6912100</td>\n",
       "    </tr>\n",
       "    <tr>\n",
       "      <th>3445</th>\n",
       "      <td>2023-03-20</td>\n",
       "      <td>299.790009</td>\n",
       "      <td>307.500000</td>\n",
       "      <td>296.000000</td>\n",
       "      <td>305.130005</td>\n",
       "      <td>305.130005</td>\n",
       "      <td>5113400</td>\n",
       "    </tr>\n",
       "    <tr>\n",
       "      <th>3446</th>\n",
       "      <td>2023-03-21</td>\n",
       "      <td>306.320007</td>\n",
       "      <td>307.920013</td>\n",
       "      <td>300.429993</td>\n",
       "      <td>305.790009</td>\n",
       "      <td>305.790009</td>\n",
       "      <td>4876900</td>\n",
       "    </tr>\n",
       "  </tbody>\n",
       "</table>\n",
       "</div>"
      ],
      "text/plain": [
       "           Date        Open        High         Low       Close   Adj Close  \\\n",
       "3442 2023-03-15  292.510010  306.309998  292.279999  303.790009  303.790009   \n",
       "3443 2023-03-16  304.750000  316.600006  301.709991  310.059998  310.059998   \n",
       "3444 2023-03-17  310.059998  310.760010  300.000000  303.500000  303.500000   \n",
       "3445 2023-03-20  299.790009  307.500000  296.000000  305.130005  305.130005   \n",
       "3446 2023-03-21  306.320007  307.920013  300.429993  305.790009  305.790009   \n",
       "\n",
       "       Volume  \n",
       "3442  9215300  \n",
       "3443  7903700  \n",
       "3444  6912100  \n",
       "3445  5113400  \n",
       "3446  4876900  "
      ]
     },
     "execution_count": 8,
     "metadata": {},
     "output_type": "execute_result"
    }
   ],
   "source": [
    "data.tail()"
   ]
  },
  {
   "cell_type": "code",
   "execution_count": 13,
   "id": "9a6d6ba0",
   "metadata": {},
   "outputs": [
    {
     "data": {
      "text/plain": [
       "<AxesSubplot: xlabel='Date', ylabel='Close'>"
      ]
     },
     "execution_count": 13,
     "metadata": {},
     "output_type": "execute_result"
    },
    {
     "data": {
      "image/png": "[encoded data removed]",
      "text/plain": [
       "<Figure size 640x480 with 1 Axes>"
      ]
     },
     "metadata": {},
     "output_type": "display_data"
    }
   ],
   "source": [
    "sns.set_style(\"darkgrid\")\n",
    "\n",
    "sns.lineplot(data=data, x=\"Date\", y=\"Close\")\n"
   ]
  },
  {
   "cell_type": "code",
   "execution_count": 16,
   "id": "87fa68b0",
   "metadata": {},
   "outputs": [
    {
     "name": "stdout",
     "output_type": "stream",
     "text": [
      "Close        1.000000\n",
      "Adj Close    1.000000\n",
      "High         0.999805\n",
      "Low          0.999790\n",
      "Open         0.999559\n",
      "Volume      -0.446079\n",
      "Name: Close, dtype: float64\n"
     ]
    },
    {
     "name": "stderr",
     "output_type": "stream",
     "text": [
      "C:\\Users\\Dev Atul Patel\\AppData\\Local\\Temp\\ipykernel_19404\\376260124.py:1: FutureWarning: The default value of numeric_only in DataFrame.corr is deprecated. In a future version, it will default to False. Select only valid columns or specify the value of numeric_only to silence this warning.\n",
      "  co=data.corr()\n"
     ]
    }
   ],
   "source": [
    "co=data.corr()\n",
    "print(co['Close'].sort_values(ascending=False))"
   ]
  },
  {
   "cell_type": "code",
   "execution_count": 21,
   "id": "597e2c20",
   "metadata": {},
   "outputs": [],
   "source": [
    "#"
   ]
  },
  {
   "cell_type": "code",
   "execution_count": 22,
   "id": "acc4a1a5",
   "metadata": {},
   "outputs": [
    {
     "data": {
      "text/html": [
       "<div>\n",
       "<style scoped>\n",
       "    .dataframe tbody tr th:only-of-type {\n",
       "        vertical-align: middle;\n",
       "    }\n",
       "\n",
       "    .dataframe tbody tr th {\n",
       "        vertical-align: top;\n",
       "    }\n",
       "\n",
       "    .dataframe thead th {\n",
       "        text-align: right;\n",
       "    }\n",
       "</style>\n",
       "<table border=\"1\" class=\"dataframe\">\n",
       "  <thead>\n",
       "    <tr style=\"text-align: right;\">\n",
       "      <th></th>\n",
       "      <th>Date</th>\n",
       "      <th>Open</th>\n",
       "      <th>High</th>\n",
       "      <th>Low</th>\n",
       "      <th>Adj Close</th>\n",
       "      <th>Volume</th>\n",
       "    </tr>\n",
       "  </thead>\n",
       "  <tbody>\n",
       "    <tr>\n",
       "      <th>0</th>\n",
       "      <td>2009-07-13</td>\n",
       "      <td>5.714286</td>\n",
       "      <td>6.152857</td>\n",
       "      <td>5.694286</td>\n",
       "      <td>6.027143</td>\n",
       "      <td>29690500</td>\n",
       "    </tr>\n",
       "    <tr>\n",
       "      <th>1</th>\n",
       "      <td>2009-07-14</td>\n",
       "      <td>6.061429</td>\n",
       "      <td>6.221429</td>\n",
       "      <td>5.971429</td>\n",
       "      <td>6.185714</td>\n",
       "      <td>13967800</td>\n",
       "    </tr>\n",
       "    <tr>\n",
       "      <th>2</th>\n",
       "      <td>2009-07-15</td>\n",
       "      <td>6.258571</td>\n",
       "      <td>6.345714</td>\n",
       "      <td>6.187143</td>\n",
       "      <td>6.344286</td>\n",
       "      <td>9424800</td>\n",
       "    </tr>\n",
       "    <tr>\n",
       "      <th>3</th>\n",
       "      <td>2009-07-16</td>\n",
       "      <td>6.257143</td>\n",
       "      <td>6.324286</td>\n",
       "      <td>6.161429</td>\n",
       "      <td>6.304286</td>\n",
       "      <td>8621900</td>\n",
       "    </tr>\n",
       "    <tr>\n",
       "      <th>4</th>\n",
       "      <td>2009-07-17</td>\n",
       "      <td>6.302857</td>\n",
       "      <td>6.375714</td>\n",
       "      <td>6.248571</td>\n",
       "      <td>6.305714</td>\n",
       "      <td>8306200</td>\n",
       "    </tr>\n",
       "  </tbody>\n",
       "</table>\n",
       "</div>"
      ],
      "text/plain": [
       "        Date      Open      High       Low  Adj Close    Volume\n",
       "0 2009-07-13  5.714286  6.152857  5.694286   6.027143  29690500\n",
       "1 2009-07-14  6.061429  6.221429  5.971429   6.185714  13967800\n",
       "2 2009-07-15  6.258571  6.345714  6.187143   6.344286   9424800\n",
       "3 2009-07-16  6.257143  6.324286  6.161429   6.304286   8621900\n",
       "4 2009-07-17  6.302857  6.375714  6.248571   6.305714   8306200"
      ]
     },
     "execution_count": 22,
     "metadata": {},
     "output_type": "execute_result"
    }
   ],
   "source": [
    "#"
   ]
  },
  {
   "cell_type": "code",
   "execution_count": 4,
   "id": "68164266",
   "metadata": {},
   "outputs": [],
   "source": [
    "x = data[[\"Open\", \"High\", \"Low\", \"Volume\"]]\n",
    "y = data[\"Close\"]\n",
    "x = x.to_numpy()\n",
    "y = y.to_numpy()\n",
    "y = y.reshape(-1, 1)"
   ]
  },
  {
   "cell_type": "code",
   "execution_count": 5,
   "id": "2c1b1802",
   "metadata": {},
   "outputs": [],
   "source": [
    "xtrain, xtest, ytrain, ytest = train_test_split(x, y, \n",
    "                                                test_size=0.2, \n",
    "                                                random_state=41)"
   ]
  },
  {
   "cell_type": "code",
   "execution_count": 6,
   "id": "64fd7316",
   "metadata": {},
   "outputs": [],
   "source": [
    "from keras.models import Sequential\n",
    "from keras.layers import Dense, LSTM"
   ]
  },
  {
   "cell_type": "code",
   "execution_count": 7,
   "id": "38267056",
   "metadata": {},
   "outputs": [
    {
     "name": "stdout",
     "output_type": "stream",
     "text": [
      "Model: \"sequential\"\n",
      "_________________________________________________________________\n",
      " Layer (type)                Output Shape              Param #   \n",
      "=================================================================\n",
      " lstm (LSTM)                 (None, 4, 128)            66560     \n",
      "                                                                 \n",
      " lstm_1 (LSTM)               (None, 64)                49408     \n",
      "                                                                 \n",
      " dense (Dense)               (None, 20)                1300      \n",
      "                                                                 \n",
      " dense_1 (Dense)             (None, 1)                 21        \n",
      "                                                                 \n",
      "=================================================================\n",
      "Total params: 117,289\n",
      "Trainable params: 117,289\n",
      "Non-trainable params: 0\n",
      "_________________________________________________________________\n"
     ]
    }
   ],
   "source": [
    "model = Sequential()\n",
    "model.add(LSTM(128, return_sequences=True, input_shape= (xtrain.shape[1], 1)))\n",
    "model.add(LSTM(64, return_sequences=False))\n",
    "model.add(Dense(20))\n",
    "model.add(Dense(1))\n",
    "model.summary()"
   ]
  },
  {
   "cell_type": "code",
   "execution_count": 8,
   "id": "b5be6f37",
   "metadata": {},
   "outputs": [
    {
     "name": "stdout",
     "output_type": "stream",
     "text": [
      "Epoch 1/6\n",
      "2757/2757 [==============================] - 28s 8ms/step - loss: 7469.2334\n",
      "Epoch 2/6\n",
      "2757/2757 [==============================] - 23s 9ms/step - loss: 663.3700\n",
      "Epoch 3/6\n",
      "2757/2757 [==============================] - 23s 8ms/step - loss: 539.0595\n",
      "Epoch 4/6\n",
      "2757/2757 [==============================] - 24s 9ms/step - loss: 641.3315\n",
      "Epoch 5/6\n",
      "2757/2757 [==============================] - 23s 8ms/step - loss: 208.6935\n",
      "Epoch 6/6\n",
      "2757/2757 [==============================] - 26s 9ms/step - loss: 263.9570\n"
     ]
    },
    {
     "data": {
      "text/plain": [
       "<keras.callbacks.History at 0x1e143c65160>"
      ]
     },
     "execution_count": 8,
     "metadata": {},
     "output_type": "execute_result"
    }
   ],
   "source": [
    "model.compile(optimizer='adam', loss='mean_squared_error')\n",
    "model.fit(xtrain, ytrain, batch_size=1, epochs=6)"
   ]
  },
  {
   "cell_type": "code",
   "execution_count": 13,
   "id": "1d9f8ea8",
   "metadata": {},
   "outputs": [
    {
     "name": "stdout",
     "output_type": "stream",
     "text": [
      "1/1 [==============================] - 0s 31ms/step\n"
     ]
    },
    {
     "data": {
      "text/plain": [
       "array([[411.66803]], dtype=float32)"
      ]
     },
     "execution_count": 13,
     "metadata": {},
     "output_type": "execute_result"
    }
   ],
   "source": [
    "pred = np.array([[400, 430, 398,22562541]])\n",
    "model.predict(pred)"
   ]
  },
  {
   "cell_type": "code",
   "execution_count": null,
   "id": "d364e619",
   "metadata": {},
   "outputs": [],
   "source": []
  }
 ],
 "metadata": {
  "kernelspec": {
   "display_name": "Python 3 (ipykernel)",
   "language": "python",
   "name": "python3"
  },
  "language_info": {
   "codemirror_mode": {
    "name": "ipython",
    "version": 3
   },
   "file_extension": ".py",
   "mimetype": "text/x-python",
   "name": "python",
   "nbconvert_exporter": "python",
   "pygments_lexer": "ipython3",
   "version": "3.9.7"
  }
 },
 "nbformat": 4,
 "nbformat_minor": 5
}
